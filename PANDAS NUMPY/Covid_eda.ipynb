{
 "cells": [
  {
   "cell_type": "markdown",
   "id": "360b4d9c",
   "metadata": {},
   "source": [
    "# 📊 COVID-19 EDA – Week 1 Mini Project\n",
    "Exploratory Data Analysis of confirmed COVID-19 cases using Pandas, NumPy, Seaborn, and Matplotlib.\n"
   ]
  },
  {
   "cell_type": "code",
   "execution_count": 1,
   "id": "4a8c34db",
   "metadata": {},
   "outputs": [],
   "source": [
    "import pandas as pd\n",
    "import numpy as np\n",
    "import matplotlib.pyplot as plt\n",
    "import seaborn as sns\n",
    "\n"
   ]
  },
  {
   "cell_type": "code",
   "execution_count": 9,
   "id": "fff8351d",
   "metadata": {},
   "outputs": [],
   "source": [
    "df = pd.read_csv(\"./time_series_covid19_confirmed_global.csv\")\n",
    "df_clean = df.drop(columns=[\"Lat\", \"Long\", \"Province/State\"])  # removing null-related columns\n",
    "country_df = df_clean.groupby(\"Country/Region\").sum()  # group by country\n"
   ]
  },
  {
   "cell_type": "code",
   "execution_count": 10,
   "id": "15c20398",
   "metadata": {},
   "outputs": [
    {
     "name": "stdout",
     "output_type": "stream",
     "text": [
      "Country/Region\n",
      "US                103802702\n",
      "India              44690738\n",
      "France             39866718\n",
      "Germany            38249060\n",
      "Brazil             37076053\n",
      "Japan              33320438\n",
      "Korea, South       30615522\n",
      "Italy              25603510\n",
      "United Kingdom     24658705\n",
      "Russia             22075858\n",
      "Name: 3/9/23, dtype: int64\n"
     ]
    }
   ],
   "source": [
    "latest_date = country_df.columns[-1]\n",
    "top10 = country_df.sort_values(by=latest_date, ascending=False).head(10)\n",
    "print(top10[latest_date])\n"
   ]
  },
  {
   "cell_type": "code",
   "execution_count": 11,
   "id": "ac028282",
   "metadata": {},
   "outputs": [
    {
     "name": "stdout",
     "output_type": "stream",
     "text": [
      "3/5/23    281.0\n",
      "3/6/23    266.0\n",
      "3/7/23    326.0\n",
      "3/8/23    379.0\n",
      "3/9/23    440.0\n",
      "Name: India, dtype: float64\n"
     ]
    }
   ],
   "source": [
    "daily_new_cases = country_df.diff(axis=1)\n",
    "india_daily = daily_new_cases.loc[\"India\"]\n",
    "print(india_daily.tail())\n"
   ]
  },
  {
   "cell_type": "code",
   "execution_count": 12,
   "id": "400261b8",
   "metadata": {},
   "outputs": [
    {
     "name": "stdout",
     "output_type": "stream",
     "text": [
      "India's peak daily cases were 414188 on 5/6/21\n"
     ]
    }
   ],
   "source": [
    "peak_day = india_daily.idxmax()\n",
    "peak_value = india_daily.max()\n",
    "\n",
    "print(f\"India's peak daily cases were {int(peak_value)} on {peak_day}\")\n"
   ]
  },
  {
   "cell_type": "code",
   "execution_count": 13,
   "id": "fb87b07a",
   "metadata": {},
   "outputs": [
    {
     "name": "stdout",
     "output_type": "stream",
     "text": [
      "🌍 Global confirmed cases as of 3/9/23: 676,570,149\n",
      "🆕 New confirmed cases on 3/9/23: 177,325\n"
     ]
    }
   ],
   "source": [
    "world_total = country_df[latest_date].sum()\n",
    "world_new = daily_new_cases[latest_date].sum()\n",
    "\n",
    "print(f\"🌍 Global confirmed cases as of {latest_date}: {int(world_total):,}\")\n",
    "print(f\"🆕 New confirmed cases on {latest_date}: {int(world_new):,}\")\n"
   ]
  },
  {
   "cell_type": "code",
   "execution_count": null,
   "id": "3b84dc58",
   "metadata": {},
   "outputs": [],
   "source": [
    "india_daily = country_df.loc[\"India\"].diff().fillna(0)\n",
    "india_daily[india_daily < 0] = 0\n",
    "\n",
    "india_array = np.array(india_daily)\n",
    "\n",
    "# Apply 7-day moving average\n",
    "window = 7\n",
    "smoothed = np.convolve(india_array, np.ones(window)/window, mode='valid')\n"
   ]
  },
  {
   "cell_type": "code",
   "execution_count": 14,
   "id": "af9902da",
   "metadata": {},
   "outputs": [
    {
     "ename": "NameError",
     "evalue": "name 'window' is not defined",
     "output_type": "error",
     "traceback": [
      "\u001b[31m---------------------------------------------------------------------------\u001b[39m",
      "\u001b[31mNameError\u001b[39m                                 Traceback (most recent call last)",
      "\u001b[36mCell\u001b[39m\u001b[36m \u001b[39m\u001b[32mIn[14]\u001b[39m\u001b[32m, line 2\u001b[39m\n\u001b[32m      1\u001b[39m plt.figure(figsize=(\u001b[32m14\u001b[39m, \u001b[32m5\u001b[39m))\n\u001b[32m----> \u001b[39m\u001b[32m2\u001b[39m plt.plot(india_daily.index[\u001b[43mwindow\u001b[49m-\u001b[32m1\u001b[39m:], smoothed, label=\u001b[33m\"\u001b[39m\u001b[33m7-day Moving Average\u001b[39m\u001b[33m\"\u001b[39m)\n\u001b[32m      3\u001b[39m plt.title(\u001b[33m\"\u001b[39m\u001b[33mIndia - Smoothed Daily New COVID-19 Cases\u001b[39m\u001b[33m\"\u001b[39m)\n\u001b[32m      4\u001b[39m plt.xlabel(\u001b[33m\"\u001b[39m\u001b[33mDate\u001b[39m\u001b[33m\"\u001b[39m)\n",
      "\u001b[31mNameError\u001b[39m: name 'window' is not defined"
     ]
    },
    {
     "data": {
      "text/plain": [
       "<Figure size 1400x500 with 0 Axes>"
      ]
     },
     "metadata": {},
     "output_type": "display_data"
    }
   ],
   "source": [
    "plt.figure(figsize=(14, 5))\n",
    "plt.plot(india_daily.index[window-1:], smoothed, label=\"7-day Moving Average\")\n",
    "plt.title(\"India - Smoothed Daily New COVID-19 Cases\")\n",
    "plt.xlabel(\"Date\")\n",
    "plt.ylabel(\"Cases\")\n",
    "plt.grid(True)\n",
    "plt.legend()\n",
    "plt.tight_layout()\n",
    "plt.show()\n"
   ]
  },
  {
   "cell_type": "code",
   "execution_count": null,
   "id": "ce9ed6a9",
   "metadata": {},
   "outputs": [],
   "source": [
    "us_daily = country_df.loc[\"US\"].diff().fillna(0)\n",
    "us_daily[us_daily < 0] = 0\n",
    "\n",
    "india_smooth = np.convolve(india_daily, np.ones(window)/window, mode='valid')\n",
    "us_smooth = np.convolve(us_daily, np.ones(window)/window, mode='valid')\n",
    "date_range = india_daily.index[window-1:]\n"
   ]
  },
  {
   "cell_type": "code",
   "execution_count": null,
   "id": "f26d274e",
   "metadata": {},
   "outputs": [],
   "source": [
    "sns.histplot(india_daily, bins=50, kde=True)\n",
    "plt.title(\"India – Daily New Cases Distribution\")\n",
    "plt.xlabel(\"New Cases per Day\")\n",
    "plt.ylabel(\"Frequency\")\n",
    "plt.tight_layout()\n",
    "plt.show()\n"
   ]
  },
  {
   "cell_type": "code",
   "execution_count": 8,
   "id": "adc75be6",
   "metadata": {},
   "outputs": [
    {
     "name": "stdout",
     "output_type": "stream",
     "text": [
      "c:\\Users\\G.O.A.T\\Desktop\\Data sceince\\My-journey-in-Data-engineering\\PANDAS NUMPY\n"
     ]
    }
   ],
   "source": [
    "import os\n",
    "print(os.getcwd())\n"
   ]
  }
 ],
 "metadata": {
  "kernelspec": {
   "display_name": ".venv",
   "language": "python",
   "name": "python3"
  },
  "language_info": {
   "codemirror_mode": {
    "name": "ipython",
    "version": 3
   },
   "file_extension": ".py",
   "mimetype": "text/x-python",
   "name": "python",
   "nbconvert_exporter": "python",
   "pygments_lexer": "ipython3",
   "version": "3.13.3"
  }
 },
 "nbformat": 4,
 "nbformat_minor": 5
}
